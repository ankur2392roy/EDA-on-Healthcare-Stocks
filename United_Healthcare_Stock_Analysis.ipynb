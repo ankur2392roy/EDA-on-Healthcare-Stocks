{
 "cells": [
  {
   "cell_type": "code",
   "execution_count": 1,
   "metadata": {},
   "outputs": [
    {
     "name": "stderr",
     "output_type": "stream",
     "text": [
      "/Users/ankurroy/anaconda3/lib/python3.7/site-packages/pandas/compat/_optional.py:138: UserWarning: Pandas requires version '2.7.0' or newer of 'numexpr' (version '2.6.8' currently installed).\n",
      "  warnings.warn(msg, UserWarning)\n"
     ]
    }
   ],
   "source": [
    "import numpy as np\n",
    "import seaborn as sns\n",
    "import pandas as pd\n",
    "import matplotlib.pyplot as plt\n",
    "%matplotlib inline"
   ]
  },
  {
   "cell_type": "markdown",
   "metadata": {},
   "source": [
    "## We have undertaken this project to analyze and characterize United Healthcare (NYSE:UNH) stock performance. \n",
    "\n",
    "We have obtained our dataset from Kaggle (source: *https://www.kaggle.com/datasets/kalilurrahman/united-healthcare-stock-data*)"
   ]
  },
  {
   "cell_type": "code",
   "execution_count": 2,
   "metadata": {},
   "outputs": [],
   "source": [
    "file_name='UnitedHealthCare_stock_history.csv'\n",
    "file_data=pd.read_csv(file_name)"
   ]
  },
  {
   "cell_type": "markdown",
   "metadata": {},
   "source": [
    "## Reading the file contents and defining parameters\n",
    "\n"
   ]
  },
  {
   "cell_type": "markdown",
   "metadata": {},
   "source": [
    "\n"
   ]
  },
  {
   "cell_type": "code",
   "execution_count": 3,
   "metadata": {},
   "outputs": [
    {
     "data": {
      "text/plain": [
       "0         0.000000\n",
       "1         0.000000\n",
       "2         0.000000\n",
       "3         0.000000\n",
       "4         0.000000\n",
       "           ...    \n",
       "9401    498.649994\n",
       "9402    481.750000\n",
       "9403    484.910004\n",
       "9404    481.350006\n",
       "9405    497.000000\n",
       "Name: Open, Length: 9406, dtype: float64"
      ]
     },
     "execution_count": 3,
     "metadata": {},
     "output_type": "execute_result"
    }
   ],
   "source": [
    "file_data['Open']"
   ]
  },
  {
   "cell_type": "code",
   "execution_count": 4,
   "metadata": {},
   "outputs": [],
   "source": [
    "#the opening prices of stocks per day and closing prices are determined to calculate the net value earned/lost in a day fo trading\n",
    "\n",
    "opening_price=file_data['Open']\n",
    "closing_price=file_data['Close']\n",
    "volume=file_data['Volume']\n",
    "\n",
    "net_worth_pd=volume*(closing_price-opening_price)  #the net income at the end of each day of trading\n",
    "date=file_data['Date']\n",
    "date=np.array(date)\n",
    "date_yr=[x.rsplit('-') for x in date]\n",
    "year=[int(date_yr[i][0]) for i in range(len(date_yr))]\n",
    "month=[int(date_yr[i][1]) for i in range(len(date_yr))]\n",
    "day=[int(date_yr[i][2]) for i in range(len(date_yr))]\n",
    "year=np.array(year)\n",
    "\n"
   ]
  },
  {
   "cell_type": "markdown",
   "metadata": {},
   "source": [
    "####   We have deliberately excluded data from years 1984-1991, as the opening prices remained at 0 throughout this timperiod. Since we have accepted {closing price - opening price} as a valid indicator of annual profits, including this data would have generated misleading charts. "
   ]
  },
  {
   "cell_type": "code",
   "execution_count": 5,
   "metadata": {},
   "outputs": [],
   "source": [
    "   \n",
    "def worth_quarter(low_range,high_range,label):\n",
    "    index_loc=np.where((year >= low_range) & (year <=high_range))[0]\n",
    "    First_quarter=[]\n",
    "    Second_quarter=[]\n",
    "    Third_quarter=[]\n",
    "    Fourth_quarter=[]\n",
    "    for i in np.unique(year[index_loc]):\n",
    "        j=np.where(year==i)[0]\n",
    "        net_worth_1=[]\n",
    "        net_worth_2=[]\n",
    "        net_worth_3=[]\n",
    "        net_worth_4=[]\n",
    "        for k in j:\n",
    "            if 1<=month[k]<=3: \n",
    "                net_worth_1.append(net_worth_pd[k])\n",
    "            elif 4<=month[k]<=6:\n",
    "                net_worth_2.append(net_worth_pd[k])\n",
    "            elif 7<=month[k]<=9:\n",
    "                net_worth_3.append(net_worth_pd[k])\n",
    "            elif 10<=month[k]<=12:\n",
    "                net_worth_4.append(net_worth_pd[k]) \n",
    "                \n",
    "        for lst in (net_worth_1,net_worth_2,net_worth_3,net_worth_4):\n",
    "            if lst==[]:\n",
    "                lst.append(0.0)\n",
    "            else:\n",
    "                pass\n",
    "        First_quarter.append(np.mean(net_worth_1)/1e7)\n",
    "        Second_quarter.append(np.mean(net_worth_2)/1e7)\n",
    "        Third_quarter.append(np.mean(net_worth_3)/1e7)\n",
    "        Fourth_quarter.append(np.mean(net_worth_4)/1e7)\n",
    "       \n",
    "        \n",
    "    bar_plot = pd.DataFrame({'Q1': First_quarter,\n",
    "                          'Q2': Second_quarter,\n",
    "                            'Q3': Third_quarter,\n",
    "                            'Q4': Fourth_quarter},\n",
    "                           index=np.unique(year[index_loc]).tolist())\n",
    "    bar_plot.plot(kind = 'bar', stacked = True, color = ['Blue', 'yellow', 'green','Orange'])\n",
    "    plt.ylabel('Mean income of United Healthcare stock (\\$ $\\mathregular{10^{7}}$)')\n",
    "    plt.xlabel('Year ')\n",
    "    plt.title(label)\n",
    "    plt.xticks(rotation=0, ha='right')\n",
    "\n",
    "    plt.show()\n",
    "    \n",
    "\n",
    "    \n",
    "    "
   ]
  },
  {
   "cell_type": "markdown",
   "metadata": {},
   "source": [
    "## UNH stock performance over the decades"
   ]
  },
  {
   "cell_type": "code",
   "execution_count": 6,
   "metadata": {
    "scrolled": true
   },
   "outputs": [
    {
     "data": {
      "image/png": "[encoded data removed]",
      "text/plain": [
       "<Figure size 432x288 with 1 Axes>"
      ]
     },
     "metadata": {
      "needs_background": "light"
     },
     "output_type": "display_data"
    },
    {
     "data": {
      "image/png": "[encoded data removed]",
      "text/plain": [
       "<Figure size 432x288 with 1 Axes>"
      ]
     },
     "metadata": {
      "needs_background": "light"
     },
     "output_type": "display_data"
    },
    {
     "data": {
      "image/png": "[encoded data removed]",
      "text/plain": [
       "<Figure size 432x288 with 1 Axes>"
      ]
     },
     "metadata": {
      "needs_background": "light"
     },
     "output_type": "display_data"
    },
    {
     "data": {
      "text/plain": [
       "(None, None, None)"
      ]
     },
     "execution_count": 6,
     "metadata": {},
     "output_type": "execute_result"
    }
   ],
   "source": [
    "worth_quarter(1992,2001,'Figure 1'),worth_quarter(2002,2011,'Figure 2'),worth_quarter(2012,2022,'Figure 3')\n"
   ]
  },
  {
   "cell_type": "markdown",
   "metadata": {},
   "source": [
    "### The stacked bar plots represent the annual performances (of UH stocks), across four quarters, for three decades since 1992 (*see previous section for our reasons for omission of data between 1984-1991*). Here are the findings that we extract from each of these plots.\n",
    "    "
   ]
  },
  {
   "cell_type": "markdown",
   "metadata": {},
   "source": [
    "#### Figure 1 . This data represents the stock performance from 1992-2001, the first decade after we have seen values of opening prices being reported. It is noteworthy that stocks performed significantly well in years 1995 and 2000, as can be explained by the meteoric rise, i.e., ~45%, and ~132%, respectively (*source: https://www.macrotrends.net/stocks/charts/UNH/unitedhealth-group/stock-price-history*)."
   ]
  },
  {
   "cell_type": "markdown",
   "metadata": {},
   "source": [
    "#### Figure 2 . Due to the turbulent nature of events happening in an otherwise well performing decade (2002-2011), we observe a few downward patterns, especially 2008, when annual change plummeted to a staggering ~ 54% (source: https://www.macrotrends.net/stocks/charts/UNH/unitedhealth-group/stock-price-history). This decline can be attributed to the 2008 financial crisis, which started 2007 Q4 and continued well into 2009 Q2 (source*https://en.wikipedia.org/wiki/Great_Recession*). "
   ]
  },
  {
   "cell_type": "markdown",
   "metadata": {},
   "source": [
    "#### Figure 3 . This chart shows an opposite effect, on the UH stock performance, of another global crisis albeit of a different nature! Unlike the 2008 financial crisis, the COVID-19 pandemic of 2020-21 has been a health crisis, and this had a positive imapct on the UH stock prices (source: *https://www.wsj.com/articles/unitedhealth-logged-steady-revenue-growth-to-close-2021-11642594464*)! "
   ]
  },
  {
   "cell_type": "markdown",
   "metadata": {},
   "source": [
    "### This data bears testimony to the feasibility of our approach of breaking down the annual performance into 4 quarters. For instance, in case of 2019, although the annual % change is no different than 2018, 2020, but our data shows a rather poor perfromance in Q2, Q3 of 2019, when compared to the preceding and following years. "
   ]
  },
  {
   "cell_type": "markdown",
   "metadata": {},
   "source": [
    "## Change in annual volume (# of shares traded)"
   ]
  },
  {
   "cell_type": "code",
   "execution_count": 7,
   "metadata": {},
   "outputs": [],
   "source": [
    "def volume_stocks(low_range,high_range,wid):\n",
    "    TOT_VOL=[]\n",
    "    index_loc=np.where((year >= low_range) & (year <=high_range))[0] \n",
    "    j=np.unique(year[index_loc])\n",
    "    VOL=[]\n",
    "    for k in j:\n",
    "        if 1<=month[k]<=12:\n",
    "            VOL.append(volume[k])\n",
    "            \n",
    "        TOT_VOL.append(np.sum(VOL)/1e7)\n",
    "        \n",
    "    print('Volume in 1984:', TOT_VOL[0],'Volume in 2022:',TOT_VOL[-1])\n",
    "    plt.bar(np.unique(year[index_loc]).tolist(),TOT_VOL,color='maroon',width=wid)\n",
    "    plt.plot(np.unique(year[index_loc]).tolist(),TOT_VOL,color='blue',lw=1)\n",
    "    plt.xlabel('Year')\n",
    "    plt.ylabel('Volume traded in ( $\\sim$ $\\mathregular{10^{7}}$)')\n",
    "    plt.title('Figure 4')\n",
    "    plt.show()\n",
    "    \n",
    "        \n",
    "    \n",
    "    \n",
    "    "
   ]
  },
  {
   "cell_type": "code",
   "execution_count": 8,
   "metadata": {},
   "outputs": [
    {
     "name": "stdout",
     "output_type": "stream",
     "text": [
      "Volume in 1984: 0.21696 Volume in 2022: 16.28368\n"
     ]
    },
    {
     "data": {
      "image/png": "[encoded data removed]",
      "text/plain": [
       "<Figure size 432x288 with 1 Axes>"
      ]
     },
     "metadata": {
      "needs_background": "light"
     },
     "output_type": "display_data"
    }
   ],
   "source": [
    "volume_stocks(1984,2022,0.5)"
   ]
  },
  {
   "cell_type": "markdown",
   "metadata": {},
   "source": [
    "### In the bar chart above, we have demonstrated how the UNH annual volume (# of shares traded) has steadily increased by ~ 7,300 % over the past 39 years. This performance portrays the dependability and trust factor associated with this brand, which is underlined by the fact that volumes were not significantly impacted by the financial crisis of 2007-2008 and similar events!"
   ]
  }
 ],
 "metadata": {
  "kernelspec": {
   "display_name": "Python 3",
   "language": "python",
   "name": "python3"
  },
  "language_info": {
   "codemirror_mode": {
    "name": "ipython",
    "version": 3
   },
   "file_extension": ".py",
   "mimetype": "text/x-python",
   "name": "python",
   "nbconvert_exporter": "python",
   "pygments_lexer": "ipython3",
   "version": "3.7.1"
  }
 },
 "nbformat": 4,
 "nbformat_minor": 2
}
